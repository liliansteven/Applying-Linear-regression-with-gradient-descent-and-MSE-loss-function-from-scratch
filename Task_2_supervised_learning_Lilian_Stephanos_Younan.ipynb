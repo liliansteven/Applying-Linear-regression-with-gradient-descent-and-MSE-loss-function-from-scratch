{
 "cells": [
  {
   "cell_type": "markdown",
   "id": "ab201873",
   "metadata": {
    "id": "ab201873"
   },
   "source": [
    "### Name : Lilian Stephanos Younan\n",
    "\n",
    "### ID : 20200404\n",
    "\n",
    "### LAB : S5"
   ]
  },
  {
   "cell_type": "markdown",
   "id": "d9a6373c",
   "metadata": {
    "id": "d9a6373c"
   },
   "source": [
    "## 1. Importing important libraries :"
   ]
  },
  {
   "cell_type": "code",
   "execution_count": 1,
   "id": "a55d835d",
   "metadata": {
    "id": "a55d835d"
   },
   "outputs": [],
   "source": [
    "import random\n",
    "import numpy as np\n",
    "import pandas as pd \n",
    "import matplotlib.pyplot as plt \n",
    "from sklearn.model_selection import train_test_split"
   ]
  },
  {
   "cell_type": "markdown",
   "id": "793808e5",
   "metadata": {
    "id": "793808e5"
   },
   "source": [
    "# Linear Regression:\n",
    "\n",
    "**Y = wX + b**\n",
    "\n",
    "Y --> Dependent Variable\n",
    "\n",
    "X --> Independent Variable\n",
    "\n",
    "w --> weight\n",
    "\n",
    "b --> bias"
   ]
  },
  {
   "cell_type": "markdown",
   "id": "efcd404d",
   "metadata": {
    "id": "efcd404d"
   },
   "source": [
    "# **Gradient Descent:**\n",
    "\n",
    "Gradient Descent is an optimization algorithm used for minimizing the loss function in various machine learning algorithms. It is used for updating the parameters of the learning model.\n",
    "\n",
    "w  =  w - α*dw\n",
    "\n",
    "b  =  b - α*db"
   ]
  },
  {
   "cell_type": "markdown",
   "id": "ff4fe69c",
   "metadata": {
    "id": "ff4fe69c"
   },
   "source": [
    "## Steps of my solution to making the linear regression model using gradient descent from scretch :"
   ]
  },
  {
   "cell_type": "markdown",
   "id": "361fea74",
   "metadata": {
    "id": "361fea74"
   },
   "source": [
    "**Step 1:** Set Learning Rate & Number of Iterations, Initiate Random weight and bias value. y \n",
    "\n",
    "**Step 2:** Build Linear Regression Equation. (y = wx + b)\n",
    "\n",
    "**Step 3:** Find the \"y pred\" value for given x value for the corresponding weight & bias.\n",
    "\n",
    "**Step 4:** Check the loss function for these parameter values. ( difference between \"y pred\" & “true y\")\n",
    "\n",
    "**Step 5:** Update the parameter values using Gradient Descent. (new weight & bias value)\n",
    "\n",
    "**Step 6:** Step 3, 4, 5 are repeated till we get minimum loss function\n",
    "\n",
    "Finally we will get the best model (best weight and bias value) as it has minimum loss function.\n"
   ]
  },
  {
   "cell_type": "code",
   "execution_count": 2,
   "id": "fca71f60",
   "metadata": {
    "id": "fca71f60"
   },
   "outputs": [],
   "source": [
    "class Linear_Regression():\n",
    "    # just setters for the object of class Linear_Regression\n",
    "    # Learning rate (λ) :  is one such hyper-parameter\n",
    "    # that defines the adjustment in the weights of our network with respect to the loss gradient descent.\n",
    "    # It determines how fast or slow we will move towards the optimal weights.\n",
    "\n",
    "    # no_of_iterations : how  many the model will go throw the data to get the minimum loss (error)\n",
    "    def __init__(self, learning_rate, no_of_iterations):\n",
    "        self.learning_rate = learning_rate\n",
    "        self.no_of_iterations = no_of_iterations\n",
    "\n",
    "    # For all possible lines,\n",
    "    # calculate the sum of squares of errors.\n",
    "    # The line which has the least sum of squares of errors is the best fit line\n",
    "    def fit(self, X, Y):\n",
    "        self.m  , self.n = X.shape  ## number of rows\n",
    "\n",
    "        # just initializing the weights for every feature in my dataset (becouse the prediction my be based on not only one feature)\n",
    "        # so it may be multilinear regression\n",
    "\n",
    "        # initiating the weight and bias\n",
    "\n",
    "        self.w=np.zeros(self.n)\n",
    "\n",
    "        # initializing the based to zero\n",
    "        self.b = 0\n",
    "\n",
    "        self.X = X\n",
    "\n",
    "        self.Y = Y\n",
    "\n",
    "        # implementing Gradient Descent for Optimization\n",
    "        for i in range(self.no_of_iterations):\n",
    "            self.update_weights()\n",
    "            \n",
    "        return self \n",
    "\n",
    "    # function to update weights in gradient descent\n",
    "\n",
    "    def update_weights(self):\n",
    "        # geting the y hat (Y_prediction) acording to the last w(weight) and b(bais)\n",
    "        Y_prediction = self.predict(self.X)\n",
    "\n",
    "        # calculate gradients\n",
    "        ## dw will help to get newest w acording to learning rate in the next iteration\n",
    "        dw = - (2 * (self.X.T).dot(self.Y - Y_prediction)) / self.m\n",
    "\n",
    "        ## dw will help to get newest b acording to learning rate in the next iteration\n",
    "        db = - 2 * np.sum(self.Y - Y_prediction) / self.m\n",
    "\n",
    "        # updating the weights and bais acording to learning rate for the next iteration\n",
    "        self.w = self.w - self.learning_rate * dw\n",
    "\n",
    "        self.b = self.b - self.learning_rate * db\n",
    "        return self\n",
    "    \n",
    "    \n",
    "    # Line function for prediction:\n",
    "    def predict(self, X):\n",
    "        ## y = wX + b (as w is the slop of line (weight) , b is the intersection with line)\n",
    "        return X.dot(self.w) + self.b\n"
   ]
  },
  {
   "cell_type": "markdown",
   "id": "49e1e039",
   "metadata": {
    "id": "49e1e039"
   },
   "source": [
    "### (1) generating x and get Y values from equation :\n"
   ]
  },
  {
   "cell_type": "code",
   "execution_count": 3,
   "id": "9ed5b686",
   "metadata": {
    "id": "9ed5b686"
   },
   "outputs": [],
   "source": [
    "x = np.arange(200)\n",
    "delta = np.random.uniform(-50 , 30 , size = (200 ,))"
   ]
  },
  {
   "cell_type": "markdown",
   "id": "a5bdade9",
   "metadata": {
    "id": "a5bdade9"
   },
   "source": [
    "### (2) converting the numpy arraies into series to make  dataframe "
   ]
  },
  {
   "cell_type": "code",
   "execution_count": 4,
   "id": "89055129",
   "metadata": {
    "id": "89055129",
    "outputId": "8fab5f33-eadd-4ecd-ab2e-249051c67251"
   },
   "outputs": [
    {
     "data": {
      "text/plain": [
       "0        0\n",
       "1        1\n",
       "2        2\n",
       "3        3\n",
       "4        4\n",
       "      ... \n",
       "195    195\n",
       "196    196\n",
       "197    197\n",
       "198    198\n",
       "199    199\n",
       "Name: X_VALUE, Length: 200, dtype: int32"
      ]
     },
     "execution_count": 4,
     "metadata": {},
     "output_type": "execute_result"
    }
   ],
   "source": [
    "ser_x = pd.Series(x , name = \"X_VALUE\")\n",
    "ser_delta =  pd.Series(delta)\n",
    "ser_x"
   ]
  },
  {
   "cell_type": "code",
   "execution_count": 5,
   "id": "7b012b94",
   "metadata": {
    "id": "7b012b94",
    "outputId": "c5d7f639-3559-4473-c5bc-6b4216fd3776"
   },
   "outputs": [
    {
     "data": {
      "text/plain": [
       "0       17.911239\n",
       "1      -16.589178\n",
       "2        3.964603\n",
       "3        6.672165\n",
       "4      -17.166847\n",
       "          ...    \n",
       "195     74.317671\n",
       "196    104.658098\n",
       "197     72.771239\n",
       "198     57.856467\n",
       "199     89.545014\n",
       "Name: Y_VALUE, Length: 200, dtype: float64"
      ]
     },
     "execution_count": 5,
     "metadata": {},
     "output_type": "execute_result"
    }
   ],
   "source": [
    "y = ((0.4*ser_x) + 3 + ser_delta)\n",
    "ser_y = pd.Series(y ,  name = \"Y_VALUE\")\n",
    "ser_y"
   ]
  },
  {
   "cell_type": "code",
   "execution_count": 6,
   "id": "d644d98f",
   "metadata": {
    "id": "d644d98f",
    "outputId": "cf2d08f8-0403-4158-ddc8-f7f9c6d05fb4"
   },
   "outputs": [
    {
     "data": {
      "text/html": [
       "<div>\n",
       "<style scoped>\n",
       "    .dataframe tbody tr th:only-of-type {\n",
       "        vertical-align: middle;\n",
       "    }\n",
       "\n",
       "    .dataframe tbody tr th {\n",
       "        vertical-align: top;\n",
       "    }\n",
       "\n",
       "    .dataframe thead th {\n",
       "        text-align: right;\n",
       "    }\n",
       "</style>\n",
       "<table border=\"1\" class=\"dataframe\">\n",
       "  <thead>\n",
       "    <tr style=\"text-align: right;\">\n",
       "      <th></th>\n",
       "      <th>X_VALUE</th>\n",
       "      <th>Y_VALUE</th>\n",
       "    </tr>\n",
       "  </thead>\n",
       "  <tbody>\n",
       "    <tr>\n",
       "      <th>0</th>\n",
       "      <td>0</td>\n",
       "      <td>17.911239</td>\n",
       "    </tr>\n",
       "    <tr>\n",
       "      <th>1</th>\n",
       "      <td>1</td>\n",
       "      <td>-16.589178</td>\n",
       "    </tr>\n",
       "    <tr>\n",
       "      <th>2</th>\n",
       "      <td>2</td>\n",
       "      <td>3.964603</td>\n",
       "    </tr>\n",
       "    <tr>\n",
       "      <th>3</th>\n",
       "      <td>3</td>\n",
       "      <td>6.672165</td>\n",
       "    </tr>\n",
       "    <tr>\n",
       "      <th>4</th>\n",
       "      <td>4</td>\n",
       "      <td>-17.166847</td>\n",
       "    </tr>\n",
       "    <tr>\n",
       "      <th>...</th>\n",
       "      <td>...</td>\n",
       "      <td>...</td>\n",
       "    </tr>\n",
       "    <tr>\n",
       "      <th>195</th>\n",
       "      <td>195</td>\n",
       "      <td>74.317671</td>\n",
       "    </tr>\n",
       "    <tr>\n",
       "      <th>196</th>\n",
       "      <td>196</td>\n",
       "      <td>104.658098</td>\n",
       "    </tr>\n",
       "    <tr>\n",
       "      <th>197</th>\n",
       "      <td>197</td>\n",
       "      <td>72.771239</td>\n",
       "    </tr>\n",
       "    <tr>\n",
       "      <th>198</th>\n",
       "      <td>198</td>\n",
       "      <td>57.856467</td>\n",
       "    </tr>\n",
       "    <tr>\n",
       "      <th>199</th>\n",
       "      <td>199</td>\n",
       "      <td>89.545014</td>\n",
       "    </tr>\n",
       "  </tbody>\n",
       "</table>\n",
       "<p>200 rows × 2 columns</p>\n",
       "</div>"
      ],
      "text/plain": [
       "     X_VALUE     Y_VALUE\n",
       "0          0   17.911239\n",
       "1          1  -16.589178\n",
       "2          2    3.964603\n",
       "3          3    6.672165\n",
       "4          4  -17.166847\n",
       "..       ...         ...\n",
       "195      195   74.317671\n",
       "196      196  104.658098\n",
       "197      197   72.771239\n",
       "198      198   57.856467\n",
       "199      199   89.545014\n",
       "\n",
       "[200 rows x 2 columns]"
      ]
     },
     "execution_count": 6,
     "metadata": {},
     "output_type": "execute_result"
    }
   ],
   "source": [
    "df =pd.concat([ser_x , ser_y ],axis=1)\n",
    "df"
   ]
  },
  {
   "cell_type": "code",
   "execution_count": 7,
   "id": "2cc3c64f",
   "metadata": {
    "id": "2cc3c64f",
    "outputId": "62541f79-e62a-41f0-cb4d-80b5e31f0a01"
   },
   "outputs": [
    {
     "data": {
      "image/png": "[encoded data removed]",
      "text/plain": [
       "<Figure size 800x600 with 1 Axes>"
      ]
     },
     "metadata": {},
     "output_type": "display_data"
    }
   ],
   "source": [
    "df.plot(kind = \"scatter\" , x = \"X_VALUE\" , y = \"Y_VALUE\", figsize = (8,6) , color = \"red\")\n",
    "# set the title\n",
    "plt.title('ScatterPlot')\n",
    "  \n",
    "# show the plot\n",
    "plt.show()"
   ]
  },
  {
   "cell_type": "code",
   "execution_count": 8,
   "id": "97146758",
   "metadata": {
    "id": "97146758"
   },
   "outputs": [],
   "source": [
    "# sperating X (training data ) from y (target data)\n",
    "X_data = df.iloc[:,:-1].values      \n",
    "y_data = df.iloc[:,1].values"
   ]
  },
  {
   "cell_type": "markdown",
   "id": "966481d0",
   "metadata": {
    "id": "966481d0"
   },
   "source": [
    "## Splitting the dataset into training & test data"
   ]
  },
  {
   "cell_type": "code",
   "execution_count": 9,
   "id": "ae0df7cf",
   "metadata": {
    "id": "ae0df7cf"
   },
   "outputs": [],
   "source": [
    "X_train, X_test, Y_train, Y_test = train_test_split(X_data, y_data , test_size=0.20, random_state = 42)"
   ]
  },
  {
   "cell_type": "code",
   "execution_count": 10,
   "id": "af541237",
   "metadata": {
    "id": "af541237"
   },
   "outputs": [],
   "source": [
    "model = Linear_Regression(learning_rate = 0.00001 , no_of_iterations = 1000)"
   ]
  },
  {
   "cell_type": "code",
   "execution_count": 11,
   "id": "d986ef0e",
   "metadata": {
    "id": "d986ef0e",
    "outputId": "5538d9dc-aeac-47a0-8c0d-814afdce1341"
   },
   "outputs": [
    {
     "data": {
      "text/plain": [
       "<__main__.Linear_Regression at 0x1b7adff0d00>"
      ]
     },
     "execution_count": 11,
     "metadata": {},
     "output_type": "execute_result"
    }
   ],
   "source": [
    "model.fit(X_train, Y_train)"
   ]
  },
  {
   "cell_type": "code",
   "execution_count": 12,
   "id": "378d3659",
   "metadata": {
    "id": "378d3659",
    "outputId": "0ec0a477-ef5a-45eb-be17-84a53f62307f"
   },
   "outputs": [
    {
     "name": "stdout",
     "output_type": "stream",
     "text": [
      "weight =  0.35253547528771495\n",
      "bias =  -0.010060395277062463\n"
     ]
    }
   ],
   "source": [
    "# printing the parameter values ( weights & bias)\n",
    "print('weight = ', model.w[0])\n",
    "print('bias = ', model.b)"
   ]
  },
  {
   "cell_type": "markdown",
   "id": "6d301384",
   "metadata": {
    "id": "6d301384"
   },
   "source": [
    "*Predict* the X value for test data"
   ]
  },
  {
   "cell_type": "code",
   "execution_count": 13,
   "id": "b9d037a2",
   "metadata": {
    "id": "b9d037a2"
   },
   "outputs": [],
   "source": [
    "test_data_prediction = model.predict(X_test)"
   ]
  },
  {
   "cell_type": "code",
   "execution_count": 14,
   "id": "c66c9bbb",
   "metadata": {
    "id": "c66c9bbb",
    "outputId": "ee55bb91-133b-441c-ad0a-8079569a1fb9"
   },
   "outputs": [
    {
     "name": "stdout",
     "output_type": "stream",
     "text": [
      "[33.48080976  5.27797173 10.56600386 55.6905447  45.11448044 40.53151926\n",
      " 24.3148874  59.9209704  61.3311123  15.85403599 23.25728097 64.15139611\n",
      " 58.15829303 27.48770668 65.56153801 62.38871873 19.73192622 53.57533185\n",
      " 28.89784858 23.96235192 43.70433854  5.63050721 52.16518995 32.77573881\n",
      " 22.9047455  21.14206812 29.60291953 23.60981645 44.05687402 46.52462234\n",
      "  3.16275888  6.33557816 19.37939075 26.43010025 52.8702609  36.65362903\n",
      " 47.58222877 48.28729972 57.80575755 26.78263573]\n"
     ]
    }
   ],
   "source": [
    "print(test_data_prediction)"
   ]
  },
  {
   "cell_type": "code",
   "execution_count": 15,
   "id": "69b20b8c",
   "metadata": {
    "id": "69b20b8c",
    "outputId": "f6803bbd-015d-48be-8579-072757cdac4f"
   },
   "outputs": [
    {
     "data": {
      "image/png": "[encoded data removed]",
      "text/plain": [
       "<Figure size 640x480 with 1 Axes>"
      ]
     },
     "metadata": {},
     "output_type": "display_data"
    }
   ],
   "source": [
    "plt.scatter(X_test, Y_test, color = 'red')\n",
    "plt.plot(X_test, test_data_prediction, color='blue')\n",
    "plt.xlabel('X_test')\n",
    "plt.ylabel('test_data_prediction')\n",
    "plt.show()"
   ]
  },
  {
   "cell_type": "markdown",
   "id": "494dcc6f",
   "metadata": {
    "id": "494dcc6f"
   },
   "source": [
    "### MSE \"Calculating Mean Squared Error\" : "
   ]
  },
  {
   "cell_type": "code",
   "execution_count": 16,
   "id": "9b54c546",
   "metadata": {
    "id": "9b54c546",
    "outputId": "df4a521b-403b-41fc-a8f2-229c5da569fa"
   },
   "outputs": [
    {
     "name": "stdout",
     "output_type": "stream",
     "text": [
      "The Mean Square Error is:  462.3652797905349\n"
     ]
    }
   ],
   "source": [
    "summation = 0  #variable to store the summation of differences\n",
    "n = len(Y_test) #finding total number of items in list\n",
    "for i in range (0,n):  #looping through each element of the list\n",
    "    difference = Y_test[i] - test_data_prediction[i]  #finding the difference between observed and predicted value\n",
    "    squared_difference = difference**2  #taking square of the differene \n",
    "    summation = summation + squared_difference  #taking a sum of all the differences\n",
    "MSE = summation/n  #dividing summation by total values to obtain average\n",
    "\n",
    "print( \"The Mean Square Error is: \" , MSE)"
   ]
  },
  {
   "cell_type": "code",
   "execution_count": null,
   "id": "16a0f2b9",
   "metadata": {
    "id": "16a0f2b9"
   },
   "outputs": [],
   "source": []
  }
 ],
 "metadata": {
  "colab": {
   "provenance": []
  },
  "kernelspec": {
   "display_name": "Python 3 (ipykernel)",
   "language": "python",
   "name": "python3"
  },
  "language_info": {
   "codemirror_mode": {
    "name": "ipython",
    "version": 3
   },
   "file_extension": ".py",
   "mimetype": "text/x-python",
   "name": "python",
   "nbconvert_exporter": "python",
   "pygments_lexer": "ipython3",
   "version": "3.9.13"
  }
 },
 "nbformat": 4,
 "nbformat_minor": 5
}
